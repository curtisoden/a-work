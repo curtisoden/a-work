{
 "cells": [
  {
   "cell_type": "markdown",
   "id": "6cab8042",
   "metadata": {},
   "source": [
    "# Merging Client and Price Data for Churn Prediction\n",
    "This notebook combines time-series pricing data with client metadata to produce a flat feature set suitable for churn prediction modeling."
   ]
  },
  {
   "cell_type": "raw",
   "id": "851fae97-7aaf-4c9d-a837-ebc579f37c85",
   "metadata": {},
   "source": [
    "import pandas as pd\n",
    "import numpy as np\n"
   ]
  },
  {
   "cell_type": "code",
   "execution_count": null,
   "id": "55745803",
   "metadata": {},
   "outputs": [],
   "source": [
    "price_data = pd.read_csv(\"price_data.csv\")\n",
    "client_data = pd.read_csv(\"client_data.csv\")\n"
   ]
  },
  {
   "cell_type": "code",
   "execution_count": null,
   "id": "9a96c68c",
   "metadata": {},
   "outputs": [],
   "source": [
    "# Define aggregation functions for each pricing column\n",
    "agg_funcs = ['mean', 'std', 'min', 'max', 'last']\n",
    "\n",
    "price_cols = [\n",
    "    'price_off_peak_var', 'price_peak_var', 'price_mid_peak_var',\n",
    "    'price_off_peak_fix', 'price_peak_fix', 'price_mid_peak_fix'\n",
    "]\n",
    "\n",
    "# Create dictionary for aggregation\n",
    "agg_dict = {col: agg_funcs for col in price_cols}\n",
    "\n",
    "# Group by 'id' and aggregate\n",
    "agg_price = price_data.groupby('id').agg(agg_dict)\n",
    "\n",
    "# Flatten multi-index columns\n",
    "agg_price.columns = ['_'.join(col).strip() for col in agg_price.columns.values]\n",
    "agg_price.reset_index(inplace=True)\n",
    "\n",
    "agg_price.head()\n"
   ]
  },
  {
   "cell_type": "code",
   "execution_count": null,
   "id": "6ff77824",
   "metadata": {},
   "outputs": [],
   "source": [
    "merged_df = client_data.merge(agg_price, on='id', how='left')\n",
    "merged_df.head()\n"
   ]
  },
  {
   "cell_type": "code",
   "execution_count": null,
   "id": "4c48a135",
   "metadata": {},
   "outputs": [],
   "source": [
    "merged_df.to_csv(\"DATA_merged_churn_dataset.csv\", index=False)\n",
    "print(\"Merged dataset saved as merged_churn_dataset.csv\")\n"
   ]
  },
  {
   "cell_type": "raw",
   "id": "cc27e507-7236-4969-b90d-e6a8d4cbfb5f",
   "metadata": {},
   "source": []
  }
 ],
 "metadata": {
  "kernelspec": {
   "display_name": "Python [conda env:base] *",
   "language": "python",
   "name": "conda-base-py"
  },
  "language_info": {
   "codemirror_mode": {
    "name": "ipython",
    "version": 3
   },
   "file_extension": ".py",
   "mimetype": "text/x-python",
   "name": "python",
   "nbconvert_exporter": "python",
   "pygments_lexer": "ipython3",
   "version": "3.12.7"
  }
 },
 "nbformat": 4,
 "nbformat_minor": 5
}
