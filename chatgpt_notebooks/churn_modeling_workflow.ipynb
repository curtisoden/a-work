{
 "cells": [
  {
   "cell_type": "markdown",
   "id": "b94e7369",
   "metadata": {},
   "source": [
    "# Customer Churn Prediction Model\n",
    "This notebook demonstrates a complete churn modeling workflow, including:\n",
    "- Data loading and preprocessing\n",
    "- Addressing class imbalance\n",
    "- Feature importance analysis\n",
    "- Training and comparing multiple models\n",
    "- Evaluation and interpretation"
   ]
  },
  {
   "cell_type": "code",
   "execution_count": null,
   "id": "e53da645",
   "metadata": {},
   "outputs": [],
   "source": [
    "import pandas as pd\n",
    "import numpy as np\n",
    "import matplotlib.pyplot as plt\n",
    "from sklearn.model_selection import train_test_split, StratifiedKFold, cross_validate\n",
    "from sklearn.preprocessing import StandardScaler\n",
    "from sklearn.compose import ColumnTransformer\n",
    "from sklearn.pipeline import Pipeline\n",
    "from sklearn.metrics import classification_report, confusion_matrix, roc_auc_score, RocCurveDisplay\n",
    "from sklearn.linear_model import LogisticRegression\n",
    "from sklearn.ensemble import RandomForestClassifier, GradientBoostingClassifier\n",
    "from imblearn.over_sampling import SMOTE\n",
    "from imblearn.pipeline import Pipeline as ImbPipeline\n",
    "from imblearn.ensemble import BalancedRandomForestClassifier\n",
    "\n",
    "RANDOM_STATE = 42\n",
    "plt.rcParams['figure.dpi'] = 110"
   ]
  },
  {
   "cell_type": "markdown",
   "id": "3eeb54ee",
   "metadata": {},
   "source": [
    "## Load Data"
   ]
  },
  {
   "cell_type": "code",
   "execution_count": null,
   "id": "b81112c1",
   "metadata": {},
   "outputs": [],
   "source": [
    "df = pd.read_csv('/mnt/data/client_price_data_100.csv')\n",
    "df.head()"
   ]
  },
  {
   "cell_type": "markdown",
   "id": "4d6fb24d",
   "metadata": {},
   "source": [
    "## Data Cleaning"
   ]
  },
  {
   "cell_type": "code",
   "execution_count": null,
   "id": "f994ff91",
   "metadata": {},
   "outputs": [],
   "source": [
    "df = df.drop(columns=['Unnamed: 0'], errors='ignore')\n",
    "df = df.dropna(subset=['churn'])\n",
    "df['churn'] = df['churn'].astype(int)\n",
    "\n",
    "print(\"Churn Distribution:\")\n",
    "print(df['churn'].value_counts())\n",
    "\n",
    "feature_cols = [col for col in df.columns if col not in ['id', 'churn']]\n",
    "X = df[feature_cols]\n",
    "y = df['churn']"
   ]
  },
  {
   "cell_type": "markdown",
   "id": "48d8f33f",
   "metadata": {},
   "source": [
    "## Train-Test Split"
   ]
  },
  {
   "cell_type": "code",
   "execution_count": null,
   "id": "98804e44",
   "metadata": {},
   "outputs": [],
   "source": [
    "X_train, X_test, y_train, y_test = train_test_split(\n",
    "    X, y, test_size=0.2, stratify=y, random_state=RANDOM_STATE)\n",
    "\n",
    "print(f\"Train shape: {X_train.shape}, Test shape: {X_test.shape}\")"
   ]
  },
  {
   "cell_type": "code",
   "execution_count": null,
   "id": "ca90d4bd",
   "metadata": {},
   "outputs": [],
   "source": [
    "def evaluate_model(pipe, X_train, y_train, cv=5):\n",
    "    scoring = {'roc_auc': 'roc_auc', 'f1': 'f1', 'precision': 'precision', 'recall': 'recall'}\n",
    "    scores = cross_validate(pipe, X_train, y_train, scoring=scoring, cv=cv, return_train_score=False)\n",
    "    return {metric: np.mean(scores[f'test_{metric}']) for metric in scoring}"
   ]
  },
  {
   "cell_type": "markdown",
   "id": "87699645",
   "metadata": {},
   "source": [
    "## Train Models and Compare"
   ]
  },
  {
   "cell_type": "code",
   "execution_count": null,
   "id": "67950f48",
   "metadata": {},
   "outputs": [],
   "source": [
    "numeric_features = feature_cols\n",
    "numeric_transformer = StandardScaler()\n",
    "\n",
    "preprocessor = ColumnTransformer([\n",
    "    ('num', numeric_transformer, numeric_features)\n",
    "])\n",
    "\n",
    "models = {\n",
    "    'LogReg_balanced': LogisticRegression(max_iter=1000, class_weight='balanced', random_state=RANDOM_STATE),\n",
    "    'RandomForest_balanced': RandomForestClassifier(n_estimators=200, class_weight='balanced', random_state=RANDOM_STATE),\n",
    "    'GradientBoosting': GradientBoostingClassifier(random_state=RANDOM_STATE),\n",
    "    'BalancedRandomForest': BalancedRandomForestClassifier(n_estimators=200, random_state=RANDOM_STATE)\n",
    "}\n",
    "\n",
    "results = {}\n",
    "for name, model in models.items():\n",
    "    if name in ['LogReg_balanced', 'GradientBoosting']:\n",
    "        pipe = ImbPipeline([\n",
    "            ('pre', preprocessor),\n",
    "            ('smote', SMOTE(random_state=RANDOM_STATE)),\n",
    "            ('model', model)\n",
    "        ])\n",
    "    else:\n",
    "        pipe = Pipeline([\n",
    "            ('pre', preprocessor),\n",
    "            ('model', model)\n",
    "        ])\n",
    "    results[name] = evaluate_model(pipe, X_train, y_train)\n",
    "\n",
    "results_df = pd.DataFrame(results).T.round(3).sort_values(by='f1', ascending=False)\n",
    "results_df"
   ]
  },
  {
   "cell_type": "markdown",
   "id": "6333681a",
   "metadata": {},
   "source": [
    "## Fit Best Model on Train Set and Evaluate on Test Set"
   ]
  },
  {
   "cell_type": "code",
   "execution_count": null,
   "id": "9db74761",
   "metadata": {},
   "outputs": [],
   "source": [
    "best_model_name = results_df.index[0]\n",
    "print(f\"Best model: {best_model_name}\")\n",
    "\n",
    "model = models[best_model_name]\n",
    "if best_model_name in ['LogReg_balanced', 'GradientBoosting']:\n",
    "    pipe = ImbPipeline([\n",
    "        ('pre', preprocessor),\n",
    "        ('smote', SMOTE(random_state=RANDOM_STATE)),\n",
    "        ('model', model)\n",
    "    ])\n",
    "else:\n",
    "    pipe = Pipeline([\n",
    "        ('pre', preprocessor),\n",
    "        ('model', model)\n",
    "    ])\n",
    "\n",
    "pipe.fit(X_train, y_train)\n",
    "y_pred = pipe.predict(X_test)\n",
    "y_proba = pipe.predict_proba(X_test)[:, 1]\n",
    "\n",
    "print(classification_report(y_test, y_pred))\n",
    "print(\"ROC AUC:\", roc_auc_score(y_test, y_proba))\n",
    "\n",
    "RocCurveDisplay.from_estimator(pipe, X_test, y_test)"
   ]
  },
  {
   "cell_type": "markdown",
   "id": "5d981ec0",
   "metadata": {},
   "source": [
    "## Feature Importance"
   ]
  },
  {
   "cell_type": "code",
   "execution_count": null,
   "id": "7685dea9",
   "metadata": {},
   "outputs": [],
   "source": [
    "if best_model_name in ['RandomForest_balanced', 'BalancedRandomForest']:\n",
    "    importances = pipe.named_steps['model'].feature_importances_\n",
    "    pd.Series(importances, index=feature_cols).sort_values().tail(15).plot.barh()\n",
    "    plt.title('Top Feature Importances')\n",
    "    plt.show()\n",
    "elif best_model_name == 'LogReg_balanced':\n",
    "    coefs = pipe.named_steps['model'].coef_[0]\n",
    "    pd.Series(np.abs(coefs), index=feature_cols).sort_values().tail(15).plot.barh()\n",
    "    plt.title('Top Logistic Regression Coefficients')\n",
    "    plt.show()\n",
    "else:\n",
    "    print(\"Feature importance not supported for this model.\")"
   ]
  },
  {
   "cell_type": "markdown",
   "id": "5798a0e2",
   "metadata": {},
   "source": [
    "## Next Steps\n",
    "- Try additional models like XGBoost or LightGBM\n",
    "- Tune hyperparameters using GridSearchCV or Optuna\n",
    "- Add interaction features or domain-specific transformations\n",
    "- Monitor fairness and overfitting over larger samples"
   ]
  }
 ],
 "metadata": {},
 "nbformat": 4,
 "nbformat_minor": 5
}
